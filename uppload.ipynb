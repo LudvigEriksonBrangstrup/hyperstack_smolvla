{
 "cells": [
  {
   "cell_type": "code",
   "execution_count": null,
   "id": "45d3bec9",
   "metadata": {},
   "outputs": [],
   "source": [
    "!huggingface-cli repo create PnPStoveToCounter_15000 --type=model"
   ]
  },
  {
   "cell_type": "code",
   "execution_count": null,
   "id": "714eedce",
   "metadata": {},
   "outputs": [],
   "source": [
    "from huggingface_hub import HfApi\n",
    "import os\n",
    "\n",
    "api = HfApi()\n",
    "repo_id = \"lava8888/PnPStoveToCounter_15000\"\n",
    "\n",
    "local_path = \"ckpt/smolvla_omy/checkpoints/001500/pretrained_model\"\n",
    "for root, dirs, files in os.walk(local_path):\n",
    "    for file in files:\n",
    "        file_path = os.path.join(root, file)\n",
    "        remote_path = os.path.relpath(file_path, local_path)\n",
    "        print(f\"Uploading {file_path} to {repo_id}/{remote_path}\")\n",
    "        api.upload_file(\n",
    "            path_or_fileobj=file_path,\n",
    "            path_in_repo=remote_path,\n",
    "            repo_id=repo_id,\n",
    "            repo_type=\"model\"\n",
    "        )"
   ]
  },
  {
   "cell_type": "code",
   "execution_count": null,
   "id": "3e22c3f2",
   "metadata": {},
   "outputs": [],
   "source": []
  }
 ],
 "metadata": {
  "kernelspec": {
   "display_name": "Python 3",
   "language": "python",
   "name": "python3"
  },
  "language_info": {
   "codemirror_mode": {
    "name": "ipython",
    "version": 3
   },
   "file_extension": ".py",
   "mimetype": "text/x-python",
   "name": "python",
   "nbconvert_exporter": "python",
   "pygments_lexer": "ipython3",
   "version": "3.10.12"
  }
 },
 "nbformat": 4,
 "nbformat_minor": 5
}
