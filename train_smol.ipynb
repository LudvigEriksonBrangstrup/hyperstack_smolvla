{
 "cells": [
  {
   "cell_type": "code",
   "execution_count": null,
   "id": "6fb5e3ec",
   "metadata": {},
   "outputs": [],
   "source": [
    "!huggingface-cli download Lava8888/pnp_small --repo-type=dataset --local-dir ./pnp_small"
   ]
  },
  {
   "cell_type": "code",
   "execution_count": null,
   "id": "af14c0cb",
   "metadata": {},
   "outputs": [],
   "source": [
    "!git config --global user.name \"<LudvigEriksonBrangstrup>\"\n",
    "!git config --global user.email \"Ludvig.Brangstrup@gmail.com\""
   ]
  },
  {
   "cell_type": "code",
   "execution_count": null,
   "id": "9b15f7d4",
   "metadata": {},
   "outputs": [],
   "source": [
    "!pip install transformers==4.50.3\n",
    "!pip install num2words\n",
    "!pip install accelerate\n",
    "!pip install safetensors>=0.4.3"
   ]
  },
  {
   "cell_type": "code",
   "execution_count": null,
   "id": "8bddd978",
   "metadata": {},
   "outputs": [],
   "source": [
    "!pip install -r requirements.txt"
   ]
  },
  {
   "cell_type": "code",
   "execution_count": null,
   "id": "bbb3d0b2",
   "metadata": {},
   "outputs": [],
   "source": [
    "!pip install huggingface_hub"
   ]
  },
  {
   "cell_type": "code",
   "execution_count": null,
   "id": "b381612e",
   "metadata": {},
   "outputs": [],
   "source": [
    "!huggingface-cli download Lava8888/ArrangeVegetables --repo-type=dataset --local-dir ./ArrangeVegetables"
   ]
  },
  {
   "cell_type": "markdown",
   "id": "22b5e8f6",
   "metadata": {},
   "source": [
    "# TRAIN"
   ]
  },
  {
   "cell_type": "code",
   "execution_count": null,
   "id": "c4da06ec",
   "metadata": {},
   "outputs": [],
   "source": [
    "import os\n",
    "os.environ[\"WANDB_MODE\"] = \"online\"\n",
    "# If you have your API key, uncomment and set it below:\n",
    "os.environ[\"WANDB_API_KEY\"] = \"<your_api_key>\""
   ]
  },
  {
   "cell_type": "code",
   "execution_count": null,
   "id": "b9b6a952",
   "metadata": {},
   "outputs": [
    {
     "name": "stdout",
     "output_type": "stream",
     "text": [
      "INFO 2025-08-10 16:55:54 in_model.py:111 {'batch_size': 375,\n",
      " 'dataset': {'episodes': None,\n",
      "             'image_transforms': {'enable': False,\n",
      "                                  'max_num_transforms': 3,\n",
      "                                  'random_order': False,\n",
      "                                  'tfs': {'brightness': {'kwargs': {'brightness': [0.8,\n",
      "                                                                                   1.2]},\n",
      "                                                         'type': 'ColorJitter',\n",
      "                                                         'weight': 1.0},\n",
      "                                          'contrast': {'kwargs': {'contrast': [0.8,\n",
      "                                                                               1.2]},\n",
      "                                                       'type': 'ColorJitter',\n",
      "                                                       'weight': 1.0},\n",
      "                                          'hue': {'kwargs': {'hue': [-0.05,\n",
      "                                                                     0.05]},\n",
      "                                                  'type': 'ColorJitter',\n",
      "                                                  'weight': 1.0},\n",
      "                                          'saturation': {'kwargs': {'saturation': [0.5,\n",
      "                                                                                   1.5]},\n",
      "                                                         'type': 'ColorJitter',\n",
      "                                                         'weight': 1.0},\n",
      "                                          'sharpness': {'kwargs': {'sharpness': [0.5,\n",
      "                                                                                 1.5]},\n",
      "                                                        'type': 'SharpnessJitter',\n",
      "                                                        'weight': 1.0}}},\n",
      "             'repo_id': 'lava8888/ArrangeVegetables',\n",
      "             'revision': None,\n",
      "             'root': './ArrangeVegetables',\n",
      "             'use_imagenet_stats': True,\n",
      "             'video_backend': 'torchcodec'},\n",
      " 'env': None,\n",
      " 'eval': {'batch_size': 50, 'n_episodes': 50, 'use_async_envs': False},\n",
      " 'eval_freq': 5,\n",
      " 'job_name': 'smolvla_2',\n",
      " 'log_freq': 1,\n",
      " 'num_workers': 24,\n",
      " 'optimizer': {'betas': [0.9, 0.95],\n",
      "               'eps': 1e-08,\n",
      "               'grad_clip_norm': 10,\n",
      "               'lr': 0.0001,\n",
      "               'type': 'adamw',\n",
      "               'weight_decay': 1e-10},\n",
      " 'output_dir': 'ckpt/smolvla_omy',\n",
      " 'policy': {'adapt_to_pi_aloha': False,\n",
      "            'add_image_special_tokens': False,\n",
      "            'attention_mode': 'cross_attn',\n",
      "            'chunk_size': 5,\n",
      "            'device': 'cuda',\n",
      "            'empty_cameras': 0,\n",
      "            'expert_width_multiplier': 0.75,\n",
      "            'freeze_vision_encoder': True,\n",
      "            'input_features': {},\n",
      "            'load_vlm_weights': False,\n",
      "            'max_action_dim': 32,\n",
      "            'max_period': 4.0,\n",
      "            'max_state_dim': 32,\n",
      "            'min_period': 0.004,\n",
      "            'n_action_steps': 5,\n",
      "            'n_obs_steps': 1,\n",
      "            'normalization_mapping': {'ACTION': <NormalizationMode.MEAN_STD: 'MEAN_STD'>,\n",
      "                                      'STATE': <NormalizationMode.MEAN_STD: 'MEAN_STD'>,\n",
      "                                      'VISUAL': <NormalizationMode.IDENTITY: 'IDENTITY'>},\n",
      "            'num_expert_layers': -1,\n",
      "            'num_steps': 10,\n",
      "            'num_vlm_layers': 16,\n",
      "            'optimizer_betas': [0.9, 0.95],\n",
      "            'optimizer_eps': 1e-08,\n",
      "            'optimizer_grad_clip_norm': 10,\n",
      "            'optimizer_lr': 0.0001,\n",
      "            'optimizer_weight_decay': 1e-10,\n",
      "            'output_features': {},\n",
      "            'pad_language_to': 'longest',\n",
      "            'prefix_length': -1,\n",
      "            'resize_imgs_with_padding': [512, 512],\n",
      "            'scheduler_decay_lr': 2.5e-06,\n",
      "            'scheduler_decay_steps': 30000,\n",
      "            'scheduler_warmup_steps': 1000,\n",
      "            'self_attn_every_n_layers': 2,\n",
      "            'tokenizer_max_length': 48,\n",
      "            'train_expert_only': True,\n",
      "            'train_state_proj': True,\n",
      "            'type': 'smolvla',\n",
      "            'use_amp': False,\n",
      "            'use_cache': True,\n",
      "            'use_delta_joint_actions_aloha': False,\n",
      "            'vlm_model_name': 'HuggingFaceTB/SmolVLM2-500M-Video-Instruct'},\n",
      " 'resume': False,\n",
      " 'save_checkpoint': True,\n",
      " 'save_freq': 500,\n",
      " 'scheduler': {'decay_lr': 2.5e-06,\n",
      "               'num_decay_steps': 30000,\n",
      "               'num_warmup_steps': 1000,\n",
      "               'peak_lr': 0.0001,\n",
      "               'type': 'cosine_decay_with_warmup'},\n",
      " 'seed': 42,\n",
      " 'steps': 20000,\n",
      " 'use_policy_training_preset': True,\n",
      " 'wandb': {'disable_artifact': True,\n",
      "           'enable': True,\n",
      "           'entity': 'qualiastudios',\n",
      "           'mode': 'online',\n",
      "           'notes': 'first',\n",
      "           'project': 'smolVLA',\n",
      "           'run_id': '3'}}\n",
      "\u001b[1m\u001b[34mLogs will be synced with wandb.\u001b[0m\n",
      "INFO 2025-08-10 16:55:55 ndb_utils.py:96 Track this run --> \u001b[1m\u001b[33mhttps://wandb.ai/qualiastudios/SmolVLA/runs/3\u001b[0m\n",
      "INFO 2025-08-10 16:55:55 in_model.py:127 Creating dataset\n",
      "/home/ubuntu/.local/lib/python3.10/site-packages/lerobot/common/datasets/lerobot_dataset.py:486: UserWarning: To copy construct from a tensor, it is recommended to use sourceTensor.detach().clone() or sourceTensor.detach().clone().requires_grad_(True), rather than torch.tensor(sourceTensor).\n",
      "  timestamps = torch.stack([torch.tensor(ts) for ts in self.hf_dataset[\"timestamp\"]]).numpy()\n",
      "/home/ubuntu/.local/lib/python3.10/site-packages/lerobot/common/datasets/lerobot_dataset.py:487: UserWarning: To copy construct from a tensor, it is recommended to use sourceTensor.detach().clone() or sourceTensor.detach().clone().requires_grad_(True), rather than torch.tensor(sourceTensor).\n",
      "  episode_indices = torch.stack([torch.tensor(ep) for ep in self.hf_dataset[\"episode_index\"]]).numpy()\n",
      "INFO 2025-08-10 16:55:56 in_model.py:138 Creating policy\n",
      "Reducing the number of VLM layers to 16 ...\n",
      "INFO 2025-08-10 16:56:16 in_model.py:148 Creating optimizer and scheduler\n",
      "INFO 2025-08-10 16:56:16 in_model.py:160 \u001b[1m\u001b[33mOutput dir:\u001b[0m ckpt/smolvla_omy\n",
      "INFO 2025-08-10 16:56:16 in_model.py:163 cfg.steps=20000 (20K)\n",
      "INFO 2025-08-10 16:56:16 in_model.py:164 dataset.num_frames=9054 (9K)\n",
      "INFO 2025-08-10 16:56:16 in_model.py:165 dataset.num_episodes=12\n",
      "INFO 2025-08-10 16:56:16 in_model.py:166 num_learnable_params=99880992 (100M)\n",
      "INFO 2025-08-10 16:56:16 in_model.py:167 num_total_params=450046236 (450M)\n",
      "INFO 2025-08-10 16:56:16 in_model.py:206 Start offline training on a fixed dataset\n",
      "Step 0 of 20000\n"
     ]
    }
   ],
   "source": [
    "!rm -rf ckpt\n",
    "!python3 train_model.py --config_path smolvla_omy.yaml"
   ]
  },
  {
   "cell_type": "code",
   "execution_count": null,
   "id": "48f76b7b",
   "metadata": {},
   "outputs": [],
   "source": []
  }
 ],
 "metadata": {
  "kernelspec": {
   "display_name": "Python 3",
   "language": "python",
   "name": "python3"
  },
  "language_info": {
   "codemirror_mode": {
    "name": "ipython",
    "version": 3
   },
   "file_extension": ".py",
   "mimetype": "text/x-python",
   "name": "python",
   "nbconvert_exporter": "python",
   "pygments_lexer": "ipython3",
   "version": "3.10.12"
  }
 },
 "nbformat": 4,
 "nbformat_minor": 5
}
