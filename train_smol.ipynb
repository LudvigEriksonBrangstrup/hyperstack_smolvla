{
 "cells": [
  {
   "cell_type": "code",
   "execution_count": null,
   "id": "6fb5e3ec",
   "metadata": {},
   "outputs": [],
   "source": [
    "# !huggingface-cli download Lava8888/pnp_small --repo-type=dataset --local-dir ./pnp_small"
   ]
  },
  {
   "cell_type": "code",
   "execution_count": null,
   "id": "af14c0cb",
   "metadata": {},
   "outputs": [],
   "source": [
    "!git config --global user.name \"<LudvigEriksonBrangstrup>\"\n",
    "!git config --global user.email \"Ludvig.Brangstrup@gmail.com\""
   ]
  },
  {
   "cell_type": "code",
   "execution_count": null,
   "id": "9b15f7d4",
   "metadata": {},
   "outputs": [],
   "source": [
    "!pip install transformers==4.50.3\n",
    "!pip install num2words\n",
    "!pip install accelerate\n",
    "!pip install safetensors>=0.4.3"
   ]
  },
  {
   "cell_type": "code",
   "execution_count": null,
   "id": "8bddd978",
   "metadata": {},
   "outputs": [],
   "source": [
    "!pip install -r requirements.txt"
   ]
  },
  {
   "cell_type": "code",
   "execution_count": null,
   "id": "bbb3d0b2",
   "metadata": {},
   "outputs": [],
   "source": [
    "!pip install huggingface_hub"
   ]
  },
  {
   "cell_type": "code",
   "execution_count": null,
   "id": "4acf8bc5",
   "metadata": {},
   "outputs": [],
   "source": [
    "!huggingface-cli login"
   ]
  },
  {
   "cell_type": "code",
   "execution_count": null,
   "id": "b381612e",
   "metadata": {},
   "outputs": [],
   "source": [
    "!huggingface-cli download Lava8888/PnPCounterToSink --repo-type=dataset --local-dir ./PnPCounterToSink"
   ]
  },
  {
   "cell_type": "markdown",
   "id": "22b5e8f6",
   "metadata": {},
   "source": [
    "# TRAIN"
   ]
  },
  {
   "cell_type": "code",
   "execution_count": null,
   "id": "1e30848b",
   "metadata": {},
   "outputs": [],
   "source": [
    "!pip install datasets==3.6.0"
   ]
  },
  {
   "cell_type": "code",
   "execution_count": null,
   "id": "c4da06ec",
   "metadata": {},
   "outputs": [],
   "source": [
    "import os\n",
    "os.environ[\"WANDB_MODE\"] = \"online\"\n",
    "# If you have your API key, uncomment and set it below:\n",
    "os.environ[\"WANDB_API_KEY\"] = \"2b7ce8448972065134994936e1d777d3674ea828\""
   ]
  },
  {
   "cell_type": "code",
   "execution_count": null,
   "id": "5a4b02c9",
   "metadata": {},
   "outputs": [],
   "source": [
    "from huggingface_hub import HfApi\n",
    "\n",
    "            hub_api = HfApi()\n",
    "            hub_api.create_tag(\"lava8888/PnpCounterToSink\", tag=\"_version_\", repo_type=\"dataset\")"
   ]
  },
  {
   "cell_type": "code",
   "execution_count": null,
   "id": "b594ec2a",
   "metadata": {},
   "outputs": [],
   "source": [
    "from huggingface_hub import HfApi\n",
    "\n",
    "hub_api = HfApi()\n",
    "hub_api.create_tag(\"lava8888/PnpCounterToSink\", tag=\"_version_\", repo_type=\"dataset\")"
   ]
  },
  {
   "cell_type": "code",
   "execution_count": null,
   "id": "ac6f487d",
   "metadata": {},
   "outputs": [],
   "source": [
    "!rm -rf ~/.cache/huggingface/datasets"
   ]
  },
  {
   "cell_type": "code",
   "execution_count": null,
   "id": "d5a1d4d1",
   "metadata": {},
   "outputs": [],
   "source": [
    "!rm -rf ckpt"
   ]
  },
  {
   "cell_type": "code",
   "execution_count": null,
   "id": "b9b6a952",
   "metadata": {},
   "outputs": [],
   "source": [
    "!rm -rf ckpt\n",
    "!python3 train_model.py --config_path smolvla_omy.yaml"
   ]
  },
  {
   "cell_type": "code",
   "execution_count": null,
   "id": "574793c8",
   "metadata": {},
   "outputs": [],
   "source": [
    "# !huggingface-cli download Lava8888/smolvla-omy-checkpoints  --local-dir ./smolvla_omy_checkpoints"
   ]
  },
  {
   "cell_type": "markdown",
   "id": "bfdbe469",
   "metadata": {},
   "source": [
    "# Tmux"
   ]
  },
  {
   "cell_type": "code",
   "execution_count": null,
   "id": "5cba0d1d",
   "metadata": {},
   "outputs": [],
   "source": [
    "# export WANDB_MODE=online\n",
    "# export WANDB_API_KEY=2b7ce8448972065134994936e1d777d3674ea828"
   ]
  },
  {
   "cell_type": "code",
   "execution_count": null,
   "id": "c3647b99",
   "metadata": {},
   "outputs": [],
   "source": [
    "# tmux new -s mysession"
   ]
  },
  {
   "cell_type": "code",
   "execution_count": 3,
   "id": "361bf869",
   "metadata": {},
   "outputs": [],
   "source": [
    "# rm -rf ckpt"
   ]
  },
  {
   "cell_type": "markdown",
   "id": "0fa5cc74",
   "metadata": {},
   "source": [
    "### Detatch with Ctrl+b, then d"
   ]
  },
  {
   "cell_type": "markdown",
   "id": "e63359af",
   "metadata": {},
   "source": [
    "# Uppload checkpoint 100"
   ]
  },
  {
   "cell_type": "code",
   "execution_count": null,
   "id": "63408123",
   "metadata": {},
   "outputs": [],
   "source": [
    "!huggingface-cli upload smolvla_omy_ckpt_000100 /home/ludwig/Qualia/hyperstack_smolvla/smolvla_omy_checkpoints/smolvla_omy/checkpoints/000100/pretrained_model/config.json --repo-type=model\n",
    "!huggingface-cli upload smolvla_omy_ckpt_000100 /home/ludwig/Qualia/hyperstack_smolvla/smolvla_omy_checkpoints/smolvla_omy/checkpoints/000100/pretrained_model/model.safetensors --repo-type=model\n",
    "!huggingface-cli upload smolvla_omy_ckpt_000100 /home/ludwig/Qualia/hyperstack_smolvla/smolvla_omy_checkpoints/smolvla_omy/checkpoints/000100/pretrained_model/train_config.json --repo-type=model"
   ]
  },
  {
   "cell_type": "markdown",
   "id": "a2a7dc2b",
   "metadata": {},
   "source": [
    "# Uppload checkpoint 200"
   ]
  },
  {
   "cell_type": "code",
   "execution_count": null,
   "id": "ea45cfe1",
   "metadata": {},
   "outputs": [],
   "source": [
    "!huggingface-cli upload smolvla_omy_ckpt_000200 /home/ludwig/Qualia/hyperstack_smolvla/smolvla_omy_checkpoints/smolvla_omy/checkpoints/000200/pretrained_model/config.json --repo-type=model\n",
    "!huggingface-cli upload smolvla_omy_ckpt_000200 /home/ludwig/Qualia/hyperstack_smolvla/smolvla_omy_checkpoints/smolvla_omy/checkpoints/000200/pretrained_model/model.safetensors --repo-type=model\n",
    "!huggingface-cli upload smolvla_omy_ckpt_000200 /home/ludwig/Qualia/hyperstack_smolvla/smolvla_omy_checkpoints/smolvla_omy/checkpoints/000200/pretrained_model/train_config.json --repo-type=model"
   ]
  },
  {
   "cell_type": "code",
   "execution_count": null,
   "id": "960900a5",
   "metadata": {},
   "outputs": [],
   "source": [
    "!huggingface-cli upload smolvla_omy_ckpt_000750 /home/ludwig/Qualia/hyperstack_smolvla/smolvla_omy_checkpoints/smolvla_omy/checkpoints/000750/pretrained_model/config.json --repo-type=model\n",
    "!huggingface-cli upload smolvla_omy_ckpt_000750 /home/ludwig/Qualia/hyperstack_smolvla/smolvla_omy_checkpoints/smolvla_omy/checkpoints/000750/pretrained_model/model.safetensors --repo-type=model\n",
    "!huggingface-cli upload smolvla_omy_ckpt_000750 /home/ludwig/Qualia/hyperstack_smolvla/smolvla_omy_checkpoints/smolvla_omy/checkpoints/000750/pretrained_model/train_config.json --repo-type=model"
   ]
  },
  {
   "cell_type": "code",
   "execution_count": null,
   "id": "0a5781c7",
   "metadata": {},
   "outputs": [],
   "source": [
    "from huggingface_hub import HfApi\n",
    "import os\n",
    "\n",
    "api = HfApi()\n",
    "repo_id = \"lava8888/CounterToSink\"  # Correct format\n",
    "\n",
    "local_path = \"ckpt/smolvla_omy/checkpoints/last\"\n",
    "for root, dirs, files in os.walk(local_path):\n",
    "    for file in files:\n",
    "        file_path = os.path.join(root, file)\n",
    "        remote_path = os.path.relpath(file_path, local_path)\n",
    "        print(f\"Uploading {file_path} to {repo_id}/{remote_path}\")\n",
    "        api.upload_file(\n",
    "            path_or_fileobj=file_path,\n",
    "            path_in_repo=f\"last/{remote_path}\",\n",
    "            repo_id=repo_id,\n",
    "            repo_type=\"model\"\n",
    "        )"
   ]
  },
  {
   "cell_type": "code",
   "execution_count": null,
   "id": "10845e88",
   "metadata": {},
   "outputs": [],
   "source": [
    "from huggingface_hub import HfApi\n",
    "import os\n",
    "\n",
    "api = HfApi()\n",
    "repo_id = \"Lava8888/CounterToSink\"  # Replace with your username\n",
    "\n",
    "local_dir = \"ckpt/smolvla_omy/checkpoints\"\n",
    "for root, dirs, files in os.walk(local_dir):\n",
    "    for file in files:\n",
    "        local_path = os.path.join(root, file)\n",
    "        remote_path = os.path.relpath(local_path, local_dir)\n",
    "        print(f\"Uploading {local_path} to {repo_id}/{remote_path}\")\n",
    "        api.upload_file(\n",
    "            path_or_fileobj=local_path,\n",
    "            path_in_repo=remote_path,\n",
    "            repo_id=repo_id,\n",
    "            repo_type=\"model\"\n",
    "        )"
   ]
  },
  {
   "cell_type": "markdown",
   "id": "349b62b5",
   "metadata": {},
   "source": [
    "# separate repo"
   ]
  },
  {
   "cell_type": "code",
   "execution_count": null,
   "id": "50957f73",
   "metadata": {},
   "outputs": [],
   "source": [
    "huggingface-cli repo create CounterToSinkLast --type=model"
   ]
  },
  {
   "cell_type": "code",
   "execution_count": null,
   "id": "935a1b56",
   "metadata": {},
   "outputs": [],
   "source": [
    "from huggingface_hub import HfApi\n",
    "import os\n",
    "\n",
    "api = HfApi()\n",
    "repo_id = \"lava8888/CounterToSinkLast\"\n",
    "\n",
    "local_path = \"ckpt/smolvla_omy/checkpoints/last\"\n",
    "for root, dirs, files in os.walk(local_path):\n",
    "    for file in files:\n",
    "        file_path = os.path.join(root, file)\n",
    "        remote_path = os.path.relpath(file_path, local_path)\n",
    "        print(f\"Uploading {file_path} to {repo_id}/{remote_path}\")\n",
    "        api.upload_file(\n",
    "            path_or_fileobj=file_path,\n",
    "            path_in_repo=remote_path,\n",
    "            repo_id=repo_id,\n",
    "            repo_type=\"model\"\n",
    "        )"
   ]
  },
  {
   "cell_type": "code",
   "execution_count": null,
   "id": "5b908628",
   "metadata": {},
   "outputs": [],
   "source": []
  },
  {
   "cell_type": "markdown",
   "id": "408e18f5",
   "metadata": {},
   "source": [
    "## Set WANDB Environment Variables\n",
    "Set WANDB to online mode and provide your API key for logging runs."
   ]
  },
  {
   "cell_type": "code",
   "execution_count": null,
   "id": "1b8c68fc",
   "metadata": {},
   "outputs": [],
   "source": []
  }
 ],
 "metadata": {
  "kernelspec": {
   "display_name": "Python 3",
   "language": "python",
   "name": "python3"
  },
  "language_info": {
   "codemirror_mode": {
    "name": "ipython",
    "version": 3
   },
   "file_extension": ".py",
   "mimetype": "text/x-python",
   "name": "python",
   "nbconvert_exporter": "python",
   "pygments_lexer": "ipython3",
   "version": "3.10.12"
  }
 },
 "nbformat": 4,
 "nbformat_minor": 5
}
